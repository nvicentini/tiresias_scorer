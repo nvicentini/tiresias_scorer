{
 "cells": [
  {
   "cell_type": "code",
   "execution_count": 1,
   "metadata": {},
   "outputs": [],
   "source": [
    "import pandas as pd\n",
    "import requests"
   ]
  },
  {
   "cell_type": "code",
   "execution_count": 9,
   "metadata": {},
   "outputs": [],
   "source": [
    "PATH ='http://backoffice-aws.despegar.com/gaia-tiresias-test/score/'"
   ]
  },
  {
   "cell_type": "code",
   "execution_count": 3,
   "metadata": {},
   "outputs": [
    {
     "data": {
      "text/html": [
       "<div>\n",
       "<style scoped>\n",
       "    .dataframe tbody tr th:only-of-type {\n",
       "        vertical-align: middle;\n",
       "    }\n",
       "\n",
       "    .dataframe tbody tr th {\n",
       "        vertical-align: top;\n",
       "    }\n",
       "\n",
       "    .dataframe thead th {\n",
       "        text-align: right;\n",
       "    }\n",
       "</style>\n",
       "<table border=\"1\" class=\"dataframe\">\n",
       "  <thead>\n",
       "    <tr style=\"text-align: right;\">\n",
       "      <th></th>\n",
       "      <th>upa_id</th>\n",
       "    </tr>\n",
       "  </thead>\n",
       "  <tbody>\n",
       "    <tr>\n",
       "      <th>0</th>\n",
       "      <td>3ea83468-f224-4b14-a834-68f2248b1482</td>\n",
       "    </tr>\n",
       "    <tr>\n",
       "      <th>1</th>\n",
       "      <td>ffd98c37-ac6f-4732-8181-ceb2504d1d46</td>\n",
       "    </tr>\n",
       "    <tr>\n",
       "      <th>2</th>\n",
       "      <td>ea777dcb-1b46-42fa-8c1d-aa487069f195</td>\n",
       "    </tr>\n",
       "    <tr>\n",
       "      <th>3</th>\n",
       "      <td>986fd309-3a0c-462f-afd3-093a0c562f21</td>\n",
       "    </tr>\n",
       "    <tr>\n",
       "      <th>4</th>\n",
       "      <td>bbc59647-d9f7-4f8d-8596-47d9f78f8dfc</td>\n",
       "    </tr>\n",
       "    <tr>\n",
       "      <th>5</th>\n",
       "      <td>c7aef812-b127-4231-aef8-12b127223133</td>\n",
       "    </tr>\n",
       "    <tr>\n",
       "      <th>6</th>\n",
       "      <td>5508930e-dbd6-53d1-83d9-822c764dcdf3</td>\n",
       "    </tr>\n",
       "    <tr>\n",
       "      <th>7</th>\n",
       "      <td>ad7b0a20-8631-4c85-bb0a-2086313c85ba</td>\n",
       "    </tr>\n",
       "    <tr>\n",
       "      <th>8</th>\n",
       "      <td>2ae392a6-0992-417a-a392-a60992f17ad4</td>\n",
       "    </tr>\n",
       "    <tr>\n",
       "      <th>9</th>\n",
       "      <td>04bebacb-fe09-4bdf-beba-cbfe09fbdf43</td>\n",
       "    </tr>\n",
       "  </tbody>\n",
       "</table>\n",
       "</div>"
      ],
      "text/plain": [
       "                                 upa_id\n",
       "0  3ea83468-f224-4b14-a834-68f2248b1482\n",
       "1  ffd98c37-ac6f-4732-8181-ceb2504d1d46\n",
       "2  ea777dcb-1b46-42fa-8c1d-aa487069f195\n",
       "3  986fd309-3a0c-462f-afd3-093a0c562f21\n",
       "4  bbc59647-d9f7-4f8d-8596-47d9f78f8dfc\n",
       "5  c7aef812-b127-4231-aef8-12b127223133\n",
       "6  5508930e-dbd6-53d1-83d9-822c764dcdf3\n",
       "7  ad7b0a20-8631-4c85-bb0a-2086313c85ba\n",
       "8  2ae392a6-0992-417a-a392-a60992f17ad4\n",
       "9  04bebacb-fe09-4bdf-beba-cbfe09fbdf43"
      ]
     },
     "execution_count": 3,
     "metadata": {},
     "output_type": "execute_result"
    }
   ],
   "source": [
    "data = pd.read_csv('C:\\\\Users\\\\nicolas.vicentini\\\\upas_a_scorear.csv')\n",
    "data"
   ]
  },
  {
   "cell_type": "code",
   "execution_count": 5,
   "metadata": {},
   "outputs": [
    {
     "data": {
      "text/plain": [
       "['3ea83468-f224-4b14-a834-68f2248b1482',\n",
       " 'ffd98c37-ac6f-4732-8181-ceb2504d1d46',\n",
       " 'ea777dcb-1b46-42fa-8c1d-aa487069f195',\n",
       " '986fd309-3a0c-462f-afd3-093a0c562f21',\n",
       " 'bbc59647-d9f7-4f8d-8596-47d9f78f8dfc',\n",
       " 'c7aef812-b127-4231-aef8-12b127223133',\n",
       " '5508930e-dbd6-53d1-83d9-822c764dcdf3',\n",
       " 'ad7b0a20-8631-4c85-bb0a-2086313c85ba',\n",
       " '2ae392a6-0992-417a-a392-a60992f17ad4',\n",
       " '04bebacb-fe09-4bdf-beba-cbfe09fbdf43']"
      ]
     },
     "execution_count": 5,
     "metadata": {},
     "output_type": "execute_result"
    }
   ],
   "source": [
    "upas = data['upa_id'].to_list()\n",
    "upas"
   ]
  },
  {
   "cell_type": "code",
   "execution_count": 35,
   "metadata": {},
   "outputs": [],
   "source": [
    "rows = []"
   ]
  },
  {
   "cell_type": "code",
   "execution_count": 39,
   "metadata": {},
   "outputs": [
    {
     "name": "stdout",
     "output_type": "stream",
     "text": [
      "200\n",
      "200\n",
      "200\n",
      "200\n",
      "200\n",
      "200\n",
      "200\n",
      "200\n",
      "200\n",
      "200\n"
     ]
    }
   ],
   "source": [
    "for upa in upas:\n",
    "    URL = PATH + upa\n",
    "    response = requests.get(URL)\n",
    "    print(response.status_code)\n",
    "    if response.status_code == 200:\n",
    "        json = response.json()\n",
    "        for time_window,score in json['scores'].items():\n",
    "            rows.append([upa, time_window, score])\n",
    "    else:\n",
    "        rows.append([upa, 'NA', 'NA'])\n"
   ]
  },
  {
   "cell_type": "code",
   "execution_count": 40,
   "metadata": {},
   "outputs": [
    {
     "data": {
      "text/plain": [
       "[['3ea83468-f224-4b14-a834-68f2248b1482', '365', 118.80794525146484],\n",
       " ['ffd98c37-ac6f-4732-8181-ceb2504d1d46', '365', 16.40073013305664],\n",
       " ['ea777dcb-1b46-42fa-8c1d-aa487069f195', '365', 3.149949550628662],\n",
       " ['986fd309-3a0c-462f-afd3-093a0c562f21', '365', 665.6895751953125],\n",
       " ['bbc59647-d9f7-4f8d-8596-47d9f78f8dfc', '365', 104.3706283569336],\n",
       " ['c7aef812-b127-4231-aef8-12b127223133', '365', 198.58909606933594],\n",
       " ['5508930e-dbd6-53d1-83d9-822c764dcdf3', '365', 145.3687744140625],\n",
       " ['ad7b0a20-8631-4c85-bb0a-2086313c85ba', '365', 25.82213020324707],\n",
       " ['2ae392a6-0992-417a-a392-a60992f17ad4', '365', 47.15687561035156],\n",
       " ['04bebacb-fe09-4bdf-beba-cbfe09fbdf43', '365', 274.9234619140625]]"
      ]
     },
     "execution_count": 40,
     "metadata": {},
     "output_type": "execute_result"
    }
   ],
   "source": [
    "rows"
   ]
  },
  {
   "cell_type": "code",
   "execution_count": 42,
   "metadata": {},
   "outputs": [
    {
     "data": {
      "text/html": [
       "<div>\n",
       "<style scoped>\n",
       "    .dataframe tbody tr th:only-of-type {\n",
       "        vertical-align: middle;\n",
       "    }\n",
       "\n",
       "    .dataframe tbody tr th {\n",
       "        vertical-align: top;\n",
       "    }\n",
       "\n",
       "    .dataframe thead th {\n",
       "        text-align: right;\n",
       "    }\n",
       "</style>\n",
       "<table border=\"1\" class=\"dataframe\">\n",
       "  <thead>\n",
       "    <tr style=\"text-align: right;\">\n",
       "      <th></th>\n",
       "      <th>upa_id</th>\n",
       "      <th>time_window</th>\n",
       "      <th>score</th>\n",
       "    </tr>\n",
       "  </thead>\n",
       "  <tbody>\n",
       "    <tr>\n",
       "      <th>0</th>\n",
       "      <td>3ea83468-f224-4b14-a834-68f2248b1482</td>\n",
       "      <td>365</td>\n",
       "      <td>118.807945</td>\n",
       "    </tr>\n",
       "    <tr>\n",
       "      <th>1</th>\n",
       "      <td>ffd98c37-ac6f-4732-8181-ceb2504d1d46</td>\n",
       "      <td>365</td>\n",
       "      <td>16.400730</td>\n",
       "    </tr>\n",
       "    <tr>\n",
       "      <th>2</th>\n",
       "      <td>ea777dcb-1b46-42fa-8c1d-aa487069f195</td>\n",
       "      <td>365</td>\n",
       "      <td>3.149950</td>\n",
       "    </tr>\n",
       "    <tr>\n",
       "      <th>3</th>\n",
       "      <td>986fd309-3a0c-462f-afd3-093a0c562f21</td>\n",
       "      <td>365</td>\n",
       "      <td>665.689575</td>\n",
       "    </tr>\n",
       "    <tr>\n",
       "      <th>4</th>\n",
       "      <td>bbc59647-d9f7-4f8d-8596-47d9f78f8dfc</td>\n",
       "      <td>365</td>\n",
       "      <td>104.370628</td>\n",
       "    </tr>\n",
       "    <tr>\n",
       "      <th>5</th>\n",
       "      <td>c7aef812-b127-4231-aef8-12b127223133</td>\n",
       "      <td>365</td>\n",
       "      <td>198.589096</td>\n",
       "    </tr>\n",
       "    <tr>\n",
       "      <th>6</th>\n",
       "      <td>5508930e-dbd6-53d1-83d9-822c764dcdf3</td>\n",
       "      <td>365</td>\n",
       "      <td>145.368774</td>\n",
       "    </tr>\n",
       "    <tr>\n",
       "      <th>7</th>\n",
       "      <td>ad7b0a20-8631-4c85-bb0a-2086313c85ba</td>\n",
       "      <td>365</td>\n",
       "      <td>25.822130</td>\n",
       "    </tr>\n",
       "    <tr>\n",
       "      <th>8</th>\n",
       "      <td>2ae392a6-0992-417a-a392-a60992f17ad4</td>\n",
       "      <td>365</td>\n",
       "      <td>47.156876</td>\n",
       "    </tr>\n",
       "    <tr>\n",
       "      <th>9</th>\n",
       "      <td>04bebacb-fe09-4bdf-beba-cbfe09fbdf43</td>\n",
       "      <td>365</td>\n",
       "      <td>274.923462</td>\n",
       "    </tr>\n",
       "  </tbody>\n",
       "</table>\n",
       "</div>"
      ],
      "text/plain": [
       "                                 upa_id time_window       score\n",
       "0  3ea83468-f224-4b14-a834-68f2248b1482         365  118.807945\n",
       "1  ffd98c37-ac6f-4732-8181-ceb2504d1d46         365   16.400730\n",
       "2  ea777dcb-1b46-42fa-8c1d-aa487069f195         365    3.149950\n",
       "3  986fd309-3a0c-462f-afd3-093a0c562f21         365  665.689575\n",
       "4  bbc59647-d9f7-4f8d-8596-47d9f78f8dfc         365  104.370628\n",
       "5  c7aef812-b127-4231-aef8-12b127223133         365  198.589096\n",
       "6  5508930e-dbd6-53d1-83d9-822c764dcdf3         365  145.368774\n",
       "7  ad7b0a20-8631-4c85-bb0a-2086313c85ba         365   25.822130\n",
       "8  2ae392a6-0992-417a-a392-a60992f17ad4         365   47.156876\n",
       "9  04bebacb-fe09-4bdf-beba-cbfe09fbdf43         365  274.923462"
      ]
     },
     "execution_count": 42,
     "metadata": {},
     "output_type": "execute_result"
    }
   ],
   "source": [
    "df = pd.DataFrame.from_records(rows, columns=[\"upa_id\", \"time_window\", \"score\"])\n",
    "df"
   ]
  },
  {
   "cell_type": "code",
   "execution_count": 43,
   "metadata": {},
   "outputs": [],
   "source": [
    "df.to_csv('upas_scoreados.csv', encoding='utf-8', index=False)"
   ]
  }
 ],
 "metadata": {
  "kernelspec": {
   "display_name": "Python 3",
   "language": "python",
   "name": "python3"
  },
  "language_info": {
   "codemirror_mode": {
    "name": "ipython",
    "version": 3
   },
   "file_extension": ".py",
   "mimetype": "text/x-python",
   "name": "python",
   "nbconvert_exporter": "python",
   "pygments_lexer": "ipython3",
   "version": "3.7.3"
  }
 },
 "nbformat": 4,
 "nbformat_minor": 2
}
